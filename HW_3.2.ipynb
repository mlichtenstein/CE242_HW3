{
 "cells": [
  {
   "cell_type": "code",
   "execution_count": 1,
   "metadata": {
    "collapsed": true
   },
   "outputs": [],
   "source": [
    "import numpy as np\n",
    "import csv\n",
    "from sklearn.model_selection import KFold\n",
    "from sklearn.feature_extraction.text import TfidfVectorizer\n",
    "import matplotlib.pyplot as plt\n",
    "from sklearn.preprocessing import LabelEncoder"
   ]
  },
  {
   "cell_type": "markdown",
   "metadata": {},
   "source": [
    "## Define Model"
   ]
  },
  {
   "cell_type": "markdown",
   "metadata": {},
   "source": [
    "$$\\sigma(w,X) = \\frac{1}{1 +e^{w.X}}$$"
   ]
  },
  {
   "cell_type": "code",
   "execution_count": 2,
   "metadata": {
    "collapsed": true
   },
   "outputs": [],
   "source": [
    "def sigmoid(w, X):\n",
    "    return (1. / (1. + np.exp(-np.dot(X,w))))"
   ]
  },
  {
   "cell_type": "markdown",
   "metadata": {},
   "source": [
    "  $$ Loss(w,X,t, \\lambda) = \\frac{1}{m}.\\sum_T \\left[- t^{T}.\\ln(\\sigma(w,X)) - (1 - t^{T}).\\ln(1-\\sigma(w,X)\\right] + \\frac{\\lambda}{2 m} w^{T} w$$"
   ]
  },
  {
   "cell_type": "code",
   "execution_count": 3,
   "metadata": {
    "collapsed": true
   },
   "outputs": [],
   "source": [
    "def loss(w, X, t, lam):\n",
    "    m = X.shape[0]\n",
    "    y = sigmoid(w,X)  \n",
    "    J = (1. / m) *(- np.dot(t.T,np.log(y)) - np.dot((1. - t.T),np.log(1. - y)))\n",
    "    regularizer = (lam / (2. * m)) * np.dot(w.T, w)\n",
    "    J += regularizer\n",
    "    return J"
   ]
  },
  {
   "cell_type": "markdown",
   "metadata": {},
   "source": [
    "$$ \\nabla Loss = \\frac{1}{m}[(\\sigma(w,X) - t)^{T}X]^T + \\frac{\\lambda}{m}w $$"
   ]
  },
  {
   "cell_type": "code",
   "execution_count": 4,
   "metadata": {
    "collapsed": true
   },
   "outputs": [],
   "source": [
    "def partial(w, X, t, lam):\n",
    "    m = X.shape[0]\n",
    "    y = sigmoid(w, X)\n",
    "    d = (1. / m) * np.dot((y - t).T, X).T  \n",
    "    reg = (lam / m) * w\n",
    "    d = d + reg\n",
    "    return d"
   ]
  },
  {
   "cell_type": "markdown",
   "metadata": {},
   "source": [
    "$$w_{t+1} = w_{t} - \\eta  t^{-\\alpha} \\nabla Loss$$"
   ]
  },
  {
   "cell_type": "code",
   "execution_count": 5,
   "metadata": {
    "collapsed": true
   },
   "outputs": [],
   "source": [
    "def update_parameter(w, d, iteration, rate = .1, a = -.9):\n",
    "    w = w - rate * (iteration ** a) * d\n",
    "    return w"
   ]
  },
  {
   "cell_type": "code",
   "execution_count": 6,
   "metadata": {
    "collapsed": true
   },
   "outputs": [],
   "source": [
    "#define gradient descent\n",
    "def gradient_descent(w, X, t, lam, max_step = 1000, convergence = 0.00001):\n",
    "    counter = 1\n",
    "    L = loss(w, X, t, lam)\n",
    "    L_prev = L + 10\n",
    "    #update w until loss converges\n",
    "    while(abs(L - L_prev) > convergence) and (counter <= max_step):\n",
    "        L_prev =  L\n",
    "        L = loss(w, X, t, lam)\n",
    "        d = partial(w, X, t, lam)\n",
    "        w = update_parameter(w, d, counter)\n",
    "        counter += 1\n",
    "        \n",
    "    w_norm = np.linalg.norm(w)\n",
    "    results = {\"Weights\": w, \"Limit\" : L, \"W_norm\": w_norm}\n",
    "    return results\n",
    "    \n",
    "    "
   ]
  },
  {
   "cell_type": "code",
   "execution_count": 7,
   "metadata": {
    "collapsed": true
   },
   "outputs": [],
   "source": [
    "#find optimum lambda\n",
    "def seek_lambda(X, t, stop, step_size = 1, start = 0):\n",
    "    #get index lists for split\n",
    "    kf = KFold(n_splits = 10)\n",
    "    #find total steps within interval\n",
    "    total_steps = int((stop - start) / step_size)\n",
    "    lam = start\n",
    "      \n",
    "    results = {}\n",
    "    for i in range(total_steps):\n",
    "        loss_results = []\n",
    "        w = np.random.random([max_features])\n",
    "        #cross validate\n",
    "        for train_index, test_index in kf.split(X):\n",
    "            X_train, V, X_target, V_target = X[train_index, :], X[test_index, :], t[train_index], t[test_index] \n",
    "            w = gradient_descent(w, X_train, X_target, lam)[\"Weights\"]\n",
    "            validation_loss  = loss(w, V, V_target, 0)\n",
    "            loss_results.append(validation_loss)\n",
    "        #average the loss    \n",
    "        L = np.mean(loss_results)\n",
    "        results[lam] = L\n",
    "        lam += step_size\n",
    "    return (results)"
   ]
  },
  {
   "cell_type": "markdown",
   "metadata": {},
   "source": [
    "## Fit Model using sample"
   ]
  },
  {
   "cell_type": "code",
   "execution_count": 8,
   "metadata": {},
   "outputs": [
    {
     "name": "stdout",
     "output_type": "stream",
     "text": [
      "[['ham', 'Hey you can pay. With salary de. Only  &lt;#&gt; .   '], ['ham', 'What happen dear. Why you silent. I am tensed   '], ['ham', 'I can do that! I want to please you both inside and outside the bedroom...   '], ['ham', 'I wonder how you got online, my love ? Had you gone to the net cafe ? Did you get your phone recharged ? Were you on a friends net ? I think of you, boytoy   '], ['ham', 'So now my dad is gonna call after he gets out of work and ask all these crazy questions.   ']]\n"
     ]
    }
   ],
   "source": [
    "#read in data\n",
    "f = open(\"train.csv\", \"r\", errors='ignore')\n",
    "raw_data = list(csv.reader(f))[1:]\n",
    "print(raw_data[0:5])"
   ]
  },
  {
   "cell_type": "code",
   "execution_count": 9,
   "metadata": {
    "collapsed": true
   },
   "outputs": [],
   "source": [
    "#seperate label and features\n",
    "target, X = zip(*raw_data)\n",
    "X =list(X)\n",
    "t = np.asarray(target, dtype =\"<U32\")"
   ]
  },
  {
   "cell_type": "code",
   "execution_count": 10,
   "metadata": {
    "collapsed": true
   },
   "outputs": [],
   "source": [
    "#convert target to numeric\n",
    "le =LabelEncoder() #get model\n",
    "fit =le.fit(target) #fit model\n",
    "t  = fit.transform(t) #transform"
   ]
  },
  {
   "cell_type": "code",
   "execution_count": 11,
   "metadata": {
    "collapsed": true
   },
   "outputs": [],
   "source": [
    "# convert features to numeric\n",
    "max_features = 100 #define max features allowed"
   ]
  },
  {
   "cell_type": "code",
   "execution_count": 12,
   "metadata": {},
   "outputs": [
    {
     "data": {
      "text/plain": [
       "(3000, 100)"
      ]
     },
     "execution_count": 12,
     "metadata": {},
     "output_type": "execute_result"
    }
   ],
   "source": [
    "# convert features to numeric\n",
    "vectorizer = TfidfVectorizer(ngram_range = (1,2), max_features = max_features, stop_words = \"english\")\n",
    "X  = vectorizer.fit_transform(X).toarray()\n",
    "X.shape"
   ]
  },
  {
   "cell_type": "code",
   "execution_count": null,
   "metadata": {
    "collapsed": true
   },
   "outputs": [],
   "source": [
    "# Sampling\n",
    "#s = 400 #define sample size\n",
    "#index =np.random.randint(1,3000,s) #random sample\n",
    "#slice for prototype\n",
    "\n",
    "#X = X[index, :]\n",
    "#t = t[index]\n",
    "#X.shape\n",
    "#t.shape"
   ]
  },
  {
   "cell_type": "code",
   "execution_count": null,
   "metadata": {
    "collapsed": true
   },
   "outputs": [],
   "source": [
    "test =seek_lambda(X, t, 40000)"
   ]
  },
  {
   "cell_type": "code",
   "execution_count": null,
   "metadata": {
    "collapsed": true,
    "scrolled": false
   },
   "outputs": [],
   "source": [
    "%matplotlib inline\n",
    "\n",
    "x = list(test.keys())\n",
    "y = list(test.values())\n",
    "fig, ax1 =plt.subplots(figsize=(20,10))\n",
    "ax1.plot(x, y,color='navy')\n",
    "ax1.legend(loc='upper left')\n",
    "ax1.tick_params(bottom='off',top='off',left='off',right='off')\n",
    "ax1.spines[\"right\"].set_visible(False)\n",
    "ax1.spines[\"left\"].set_visible(False)\n",
    "ax1.spines[\"top\"].set_visible(False)\n",
    "ax1.spines[\"bottom\"].set_visible(False)\n",
    "plt.title('Loss ')\n",
    "plt.show()"
   ]
  },
  {
   "cell_type": "code",
   "execution_count": 991,
   "metadata": {},
   "outputs": [
    {
     "name": "stdout",
     "output_type": "stream",
     "text": [
      "0.694369372466\n",
      "0.938121644988\n"
     ]
    }
   ],
   "source": [
    "print(min(y))\n",
    "print(y[0])"
   ]
  },
  {
   "cell_type": "code",
   "execution_count": null,
   "metadata": {
    "collapsed": true
   },
   "outputs": [],
   "source": []
  }
 ],
 "metadata": {
  "kernelspec": {
   "display_name": "Python 3",
   "language": "python",
   "name": "python3"
  },
  "language_info": {
   "codemirror_mode": {
    "name": "ipython",
    "version": 3
   },
   "file_extension": ".py",
   "mimetype": "text/x-python",
   "name": "python",
   "nbconvert_exporter": "python",
   "pygments_lexer": "ipython3",
   "version": "3.6.2"
  }
 },
 "nbformat": 4,
 "nbformat_minor": 2
}
