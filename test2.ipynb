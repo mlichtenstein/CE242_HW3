{
 "cells": [
  {
   "cell_type": "code",
   "execution_count": 3,
   "metadata": {},
   "outputs": [
    {
     "name": "stdout",
     "output_type": "stream",
     "text": [
      "hello world\n"
     ]
    }
   ],
   "source": [
    "print(\"hello world from Jupyter Notebook!\")"
   ]
  },
  {
   "cell_type": "code",
   "execution_count": 2,
   "metadata": {},
   "outputs": [],
   "source": [
    "from numpy import *\n",
    "from pylab import *"
   ]
  },
  {
   "cell_type": "code",
   "execution_count": 3,
   "metadata": {},
   "outputs": [
    {
     "name": "stdout",
     "output_type": "stream",
     "text": [
      "[ 0.          0.26315789  0.52631579  0.78947368  1.05263158  1.31578947\n",
      "  1.57894737  1.84210526  2.10526316  2.36842105  2.63157895  2.89473684\n",
      "  3.15789474  3.42105263  3.68421053  3.94736842  4.21052632  4.47368421\n",
      "  4.73684211  5.        ] [  0.           0.06925208   0.27700831   0.6232687    1.10803324\n",
      "   1.73130194   2.49307479   3.3933518    4.43213296   5.60941828\n",
      "   6.92520776   8.37950139   9.97229917  11.70360111  13.5734072\n",
      "  15.58171745  17.72853186  20.01385042  22.43767313  25.        ]\n"
     ]
    }
   ],
   "source": [
    "x = linspace(0, 5, 20)\n",
    "y = x ** 2\n",
    "# print(x,y)"
   ]
  },
  {
   "cell_type": "code",
   "execution_count": 4,
   "metadata": {},
   "outputs": [
    {
     "data": {
      "image/png": "[encoded data removed]",
      "text/plain": [
       "<matplotlib.figure.Figure at 0x80f7160>"
      ]
     },
     "metadata": {},
     "output_type": "display_data"
    }
   ],
   "source": [
    "figure()\n",
    "plot(x,y,'r')\n",
    "xlabel('x')\n",
    "ylabel('y')\n",
    "title('title')\n",
    "show()"
   ]
  },
  {
   "cell_type": "code",
   "execution_count": null,
   "metadata": {},
   "outputs": [],
   "source": []
  }
 ],
 "metadata": {
  "kernelspec": {
   "display_name": "Python 3",
   "language": "python",
   "name": "python3"
  },
  "language_info": {
   "codemirror_mode": {
    "name": "ipython",
    "version": 3
   },
   "file_extension": ".py",
   "mimetype": "text/x-python",
   "name": "python",
   "nbconvert_exporter": "python",
   "pygments_lexer": "ipython3",
   "version": "3.6.2"
  }
 },
 "nbformat": 4,
 "nbformat_minor": 2
}
